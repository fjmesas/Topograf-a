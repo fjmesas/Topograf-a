{
 "cells": [
  {
   "cell_type": "markdown",
   "metadata": {},
   "source": [
    "![logo](https://user-images.githubusercontent.com/36521012/45920388-9b584480-bea3-11e8-9465-51de397800bb.png)"
   ]
  },
  {
   "cell_type": "markdown",
   "metadata": {},
   "source": [
    "## Escuela Técnica Superior de Ingeniería Agronómica y de Montes\n",
    "##### Departamento de Ingeniería Gráfica y Geomática\n",
    "###### F. Javier Mesas Carrascosa\n",
    "\n",
    "## Conversion de coordenadas polares a rectangulares"
   ]
  },
  {
   "cell_type": "markdown",
   "metadata": {},
   "source": [
    "En este notebook se calcula a partir de las coordenadas de una estación, un acimut y una distancia reducida las coordenadas del punto observado teniendo en cuenta:\n",
    "\n",
    "\n",
    "$\\Delta X _{est} ^{obs}=D_r*seno \\theta  _{est} ^{obs} \\Rightarrow X=X _{est}+\\Delta X _{est} ^{obs}$\n",
    "\n",
    "$\\Delta Y _{est} ^{obs}=D_r*cos \\theta  _{est} ^{obs} \\Rightarrow Y=Y _{est}+\\Delta Y _{est} ^{obs}$"
   ]
  },
  {
   "cell_type": "markdown",
   "metadata": {
    "collapsed": true
   },
   "source": [
    "**Introduce las coordenadas de la estación:**"
   ]
  },
  {
   "cell_type": "code",
   "execution_count": 16,
   "metadata": {
    "collapsed": true
   },
   "outputs": [],
   "source": [
    "X1=1000\n",
    "Y1=1000"
   ]
  },
  {
   "cell_type": "markdown",
   "metadata": {
    "collapsed": true
   },
   "source": [
    "**Introduce acimut:**"
   ]
  },
  {
   "cell_type": "code",
   "execution_count": 17,
   "metadata": {
    "collapsed": true
   },
   "outputs": [],
   "source": [
    "acimut=120"
   ]
  },
  {
   "cell_type": "markdown",
   "metadata": {},
   "source": [
    "**Introduce distancia reducida:**"
   ]
  },
  {
   "cell_type": "code",
   "execution_count": 18,
   "metadata": {
    "collapsed": true
   },
   "outputs": [],
   "source": [
    "dist=100"
   ]
  },
  {
   "cell_type": "markdown",
   "metadata": {},
   "source": [
    "### Solución:"
   ]
  },
  {
   "cell_type": "code",
   "execution_count": 20,
   "metadata": {},
   "outputs": [
    {
     "name": "stdout",
     "output_type": "stream",
     "text": [
      "inc X=  95.106 m --> X2=  1095.106 m\n",
      "inc Y=  -30.902 m --> Y2=  969.098 m\n"
     ]
    }
   ],
   "source": [
    "#Los ángulos se pasan a radianes pues es la unidad de trabajo en Python\n",
    "import math\n",
    "\n",
    "incX=dist*math.sin(acimut*math.pi/200);\n",
    "incY=dist*math.cos(acimut*math.pi/200);\n",
    "\n",
    "X2=X1+incX;\n",
    "Y2=Y1+incY;\n",
    "\n",
    "\n",
    "print ('inc X= ', '%.3f'%(incX), 'm --> X2= ','%.3f'%(X2), 'm')\n",
    "print ('inc Y= ', '%.3f'%(incY), 'm --> Y2= ','%.3f'%(Y2), 'm')\n"
   ]
  }
 ],
 "metadata": {
  "kernelspec": {
   "display_name": "Python 3",
   "language": "python",
   "name": "python3"
  },
  "language_info": {
   "codemirror_mode": {
    "name": "ipython",
    "version": 3
   },
   "file_extension": ".py",
   "mimetype": "text/x-python",
   "name": "python",
   "nbconvert_exporter": "python",
   "pygments_lexer": "ipython3",
   "version": "3.6.3"
  },
  "widgets": {
   "application/vnd.jupyter.widget-state+json": {
    "state": {},
    "version_major": 2,
    "version_minor": 0
   }
  }
 },
 "nbformat": 4,
 "nbformat_minor": 2
}
