{
 "cells": [
  {
   "cell_type": "markdown",
   "metadata": {},
   "source": [
    "![logo](https://user-images.githubusercontent.com/36521012/45920388-9b584480-bea3-11e8-9465-51de397800bb.png)"
   ]
  },
  {
   "cell_type": "markdown",
   "metadata": {},
   "source": [
    "## Escuela Técnica Superior de Ingeniería Agronómica y de Montes\n",
    "##### Departamento de Ingeniería Gráfica y Geomática\n",
    "###### F. Javier Mesas Carrascosa\n",
    "\n",
    "## Cálculo del error angular para lecturas actimules y cenitales "
   ]
  },
  {
   "cell_type": "markdown",
   "metadata": {},
   "source": [
    "### Error angular lecturas acimutales\n",
    "Se calcula a partir de los errores de verticalidad, estacionamiento y señal, puntería y lectura, dependientes de las características del intrumento empleado así como la distancia de observación [D]:\n",
    "\n",
    "Error de verticalidad: $e_{va}=\\frac{1}{12}\\cdot{}s ['']$\n",
    "\n",
    "Error de estacionamiento y señal: $e_{es}=\\frac{e_e+e_p}{D} [radianes]$\n",
    "\n",
    "Error de lectura: $e_{l}=\\frac{2}{3}\\cdot{}a [s]$\n",
    "\n",
    "Error de puntería: $e_{pa}=\\frac{10''}{A} \\cdot{}\\begin{bmatrix}{1+\\frac{4\\cdot{}A}{100}}\\end{bmatrix} ['']$\n",
    "\n",
    "Error angular observaciones acimutales: $ E_{a-acimutales}=\\sqrt[]{e_{va}^2+e_d^2+e_{pa}^2+e_l^2} $\n",
    "\n",
    "El error de lectura y puntería será necesario convertirlos de segundos sexagesimale a segundos centesimales.\n",
    "El error de puntería será necesario convertirlo de radianes a segundos centesimales.\n",
    "En el caso de aplicar la regla Bessel en la observación el error de lectura y el de puntería se dividarán por la raiz cuadrada de 2 al realizar dos observaciones del mismo punto.\n",
    "\n",
    "\n",
    "### Error angular lecturas cenitales\n",
    "Se calcula a partir de los errores de verticalidad, puntería y lectura, dependientes de las características del intrumento empleado:\n",
    "\n",
    "Error de verticalidad: $e_{vc}=\\frac{1}{3}\\cdot{}s ['']$\n",
    "\n",
    "Error de lectura: $e_{l}=\\frac{2}{3}\\cdot{}a [s]$\n",
    "\n",
    "Error de puntería: $e_{pc}=\\frac{20''}{A} \\cdot{}\\begin{bmatrix}{1+\\frac{4\\cdot{}A}{100}}\\end{bmatrix} ['']$\n",
    "\n",
    "Error angular observaciones cenitales $ E_{a-cenitales}=\\sqrt[]{e_{vc}^2+e_{pc}^2+e_l^2} $\n",
    "\n",
    "El error de verticalidad y puntería será necesario convertirlos de segundos sexagesimale a segundos centesimales.\n",
    "En el caso de aplicar la regla Bessel en la observación el error de lectura y el de puntería se dividarán por la raiz cuadrada de 2 al realizar dos observaciones del mismo punto."
   ]
  },
  {
   "cell_type": "markdown",
   "metadata": {
    "collapsed": true
   },
   "source": [
    "**Introduce las características del instrumento:**\n",
    "s: sensibilidad, expresada en segundos sexagesimales\n",
    "a: apreciación, expresada en segundos centesimales\n",
    "A: aumetos del instrumento\n",
    "ec: error de estacionamiento y señal, expresado en metros"
   ]
  },
  {
   "cell_type": "code",
   "execution_count": 49,
   "metadata": {},
   "outputs": [],
   "source": [
    "s= 30\n",
    "a=20\n",
    "A=30\n",
    "ec=0.05"
   ]
  },
  {
   "cell_type": "markdown",
   "metadata": {
    "collapsed": true
   },
   "source": [
    "**Introduce distancia de observación:**\n",
    "D: distancia expresada en metros"
   ]
  },
  {
   "cell_type": "code",
   "execution_count": 50,
   "metadata": {},
   "outputs": [],
   "source": [
    "D= 80"
   ]
  },
  {
   "cell_type": "markdown",
   "metadata": {},
   "source": [
    "### Cálculo del error angular acimutal"
   ]
  },
  {
   "cell_type": "code",
   "execution_count": 51,
   "metadata": {
    "scrolled": false
   },
   "outputs": [
    {
     "name": "stdout",
     "output_type": "stream",
     "text": [
      "Error de verticalidad: 2.50 \"= 7.72 s\n",
      "Error de dirección: 397.89 s\n",
      "Error de puntería: 2.26 s\n",
      "Error de puntería [considerando regla Bessel]: 1.60 s\n",
      "Error de lectura: 13.33 s\n",
      "Error de lectura [considerando regla Bessel]: 9.43 s\n",
      "\n",
      "Error total acimutal: 398.19 s\n",
      "Error total acimutal [considerando regla Bessel]: 398.08 s\n"
     ]
    }
   ],
   "source": [
    "import math\n",
    "\n",
    "#Cálculo del error de verticalidad\n",
    "eva_sexagesimales=1/12*s\n",
    "eva=eva_sexagesimales/3600*400/360*10000 #Convertido a segundos centesimales\n",
    "\n",
    "#Cálculo del error de dirección\n",
    "ed=ec/D/math.sin(0.0001*math.pi/200) #Se divide por el seno de 1 segundo para pasar de radianes a seguncos centesimales\n",
    "\n",
    "#Cálculo del error de puntería\n",
    "ep=(10/A)*(1+4*A/100)/3600*400/360*10000\n",
    "ep_bessel=ep/math.sqrt(2)\n",
    "\n",
    "#Cálculo del error de lectura\n",
    "el=2/3*a\n",
    "el_bessel=el/math.sqrt(2)\n",
    "\n",
    "\n",
    "Ea=math.sqrt(eva**2+ed**2+ep**2+el**2)\n",
    "Ea_bessel=math.sqrt(eva**2+ed**2+el_bessel**2+ep_bessel**2)\n",
    "\n",
    "print (\"Error de verticalidad:\", '%.2f'%(eva_sexagesimales),'\"=','%.2f'%(eva),'s')\n",
    "print (\"Error de dirección:\", '%.2f'%(ed),'s')\n",
    "print (\"Error de puntería:\", '%.2f'%(ep),'s')\n",
    "print (\"Error de puntería [considerando regla Bessel]:\", '%.2f'%(ep_bessel),'s')\n",
    "print (\"Error de lectura:\", '%.2f'%(el),'s')\n",
    "print (\"Error de lectura [considerando regla Bessel]:\", '%.2f'%(el_bessel),'s')\n",
    "print (\"\")\n",
    "print (\"Error total acimutal:\", '%.2f'%(Ea),'s')\n",
    "print (\"Error total acimutal [considerando regla Bessel]:\", '%.2f'%(Ea_bessel),'s')\n"
   ]
  },
  {
   "cell_type": "markdown",
   "metadata": {},
   "source": [
    "### Cálculo del error total cenital"
   ]
  },
  {
   "cell_type": "code",
   "execution_count": 52,
   "metadata": {},
   "outputs": [
    {
     "name": "stdout",
     "output_type": "stream",
     "text": [
      "Error de verticalidad: 10.00 \"= 30.86 s\n",
      "Error de puntería: 4.53 s\n",
      "Error de puntería [considerando regla Bessel]: 3.20 s\n",
      "Error de lectura: 13.33 s\n",
      "Error de lectura [considerando regla Bessel]: 9.43 s\n",
      "\n",
      "Error total cenital: 33.92 s\n",
      "Error total cenital [considerando regla Bessel]: 32.43 s\n"
     ]
    }
   ],
   "source": [
    "import math\n",
    "\n",
    "#Cálculo del error de verticalidad\n",
    "eva_sexagesimales=1/3*s\n",
    "eva=eva_sexagesimales/3600*400/360*10000 #Convertido a segundos centesimales\n",
    "\n",
    "#Cálculo del error de puntería\n",
    "ep=(20/A)*(1+4*A/100)/3600*400/360*10000\n",
    "ep_bessel=ep/math.sqrt(2)\n",
    "\n",
    "#Cálculo del error de lectura\n",
    "el=2/3*a\n",
    "el_bessel=el/math.sqrt(2)\n",
    "\n",
    "\n",
    "Ea=math.sqrt(eva**2+ep**2+el**2)\n",
    "Ea_bessel=math.sqrt(eva**2+el_bessel**2+ep_bessel**2)\n",
    "\n",
    "print (\"Error de verticalidad:\", '%.2f'%(eva_sexagesimales),'\"=','%.2f'%(eva),'s')\n",
    "print (\"Error de puntería:\", '%.2f'%(ep),'s')\n",
    "print (\"Error de puntería [considerando regla Bessel]:\", '%.2f'%(ep_bessel),'s')\n",
    "print (\"Error de lectura:\", '%.2f'%(el),'s')\n",
    "print (\"Error de lectura [considerando regla Bessel]:\", '%.2f'%(el_bessel),'s')\n",
    "print (\"\")\n",
    "print (\"Error total cenital:\", '%.2f'%(Ea),'s')\n",
    "print (\"Error total cenital [considerando regla Bessel]:\", '%.2f'%(Ea_bessel),'s')"
   ]
  },
  {
   "cell_type": "code",
   "execution_count": 48,
   "metadata": {
    "collapsed": true
   },
   "outputs": [
    {
     "name": "stdout",
     "output_type": "stream",
     "text": [
      "Error de verticalidad: 10.00 \"= 30.86 s\n",
      "Error de puntería: 4.53 s\n",
      "Error de puntería [considerando regla Bessel]: 3.20 s\n",
      "Error de lectura: 13.33 s\n",
      "Error de lectura [considerando regla Bessel]: 9.43 s\n",
      "\n",
      "Error angular: 33.92 s\n",
      "Error angular [considerando regla Bessel]: 32.43 s\n"
     ]
    }
   ],
   "source": [
    "\n"
   ]
  },
  {
   "cell_type": "code",
   "execution_count": null,
   "metadata": {},
   "outputs": [],
   "source": []
  }
 ],
 "metadata": {
  "kernelspec": {
   "display_name": "Python 3",
   "language": "python",
   "name": "python3"
  },
  "language_info": {
   "codemirror_mode": {
    "name": "ipython",
    "version": 3
   },
   "file_extension": ".py",
   "mimetype": "text/x-python",
   "name": "python",
   "nbconvert_exporter": "python",
   "pygments_lexer": "ipython3",
   "version": "3.6.4"
  },
  "widgets": {
   "application/vnd.jupyter.widget-state+json": {
    "state": {},
    "version_major": 2,
    "version_minor": 0
   }
  }
 },
 "nbformat": 4,
 "nbformat_minor": 2
}
