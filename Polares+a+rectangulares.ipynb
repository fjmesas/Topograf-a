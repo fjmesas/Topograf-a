{
 "cells": [
  {
   "cell_type": "markdown",
   "metadata": {},
   "source": [
    "# Conversion de coordenadas rectangulares a polares"
   ]
  },
  {
   "cell_type": "markdown",
   "metadata": {},
   "source": [
    "* Primer cuadrante $\\theta _{est} ^{obs}=arctg\\frac{X_{obs}-X_{est}}{Y_{obs}-Y_{est}}=arctg\\frac{\\Delta X}{\\Delta Y}$\n",
    "\n",
    "* Segundo cuadrante $\\theta _{est} ^{obs}=200-arctg\\frac{X_{obs}-X_{est}}{Y_{obs}-Y_{est}}=arctg\\frac{\\Delta X}{\\Delta Y}$\n",
    "\n",
    "* Tercer cuadrante $\\theta _{est} ^{obs}=200+arctg\\frac{X_{obs}-X_{est}}{Y_{obs}-Y_{est}}=arctg\\frac{\\Delta X}{\\Delta Y}$\n",
    "\n",
    "* Cuarto cuadrante $\\theta _{est} ^{obs}=400-arctg\\frac{X_{obs}-X_{est}}{Y_{obs}-Y_{est}}=arctg\\frac{\\Delta X}{\\Delta Y}$"
   ]
  },
  {
   "cell_type": "markdown",
   "metadata": {
    "collapsed": true
   },
   "source": [
    "**Introduce las coordenads de la estación**"
   ]
  },
  {
   "cell_type": "code",
   "execution_count": 89,
   "metadata": {
    "collapsed": true
   },
   "outputs": [],
   "source": [
    "X1=1000\n",
    "Y1=1000"
   ]
  },
  {
   "cell_type": "markdown",
   "metadata": {
    "collapsed": true
   },
   "source": [
    "**Introduce las coordenadas del punto observado**"
   ]
  },
  {
   "cell_type": "code",
   "execution_count": 90,
   "metadata": {
    "collapsed": true
   },
   "outputs": [],
   "source": [
    "X2=7000\n",
    "Y2=200"
   ]
  },
  {
   "cell_type": "code",
   "execution_count": 91,
   "metadata": {},
   "outputs": [],
   "source": [
    "import math\n",
    "incX=X2-X1\n",
    "incY=Y2-Y1\n",
    "dist=math.sqrt(incX**2+incY**2)\n",
    "if incX>0 and incY>0:\n",
    "    theta=math.atan(incX/incY)*200/math.pi\n",
    "elif incX>0 and incY<0:\n",
    "    theta=200-math.atan(incX/incY)*200/math.pi\n",
    "elif incX>0 and incY<0:\n",
    "    theta=200+math.atan(incX/incY)*200/math.pi\n",
    "else:\n",
    "    theta=400-math.atan(incX/incY)*200/math.pi\n",
    "    "
   ]
  },
  {
   "cell_type": "markdown",
   "metadata": {},
   "source": [
    "** Solución **"
   ]
  },
  {
   "cell_type": "code",
   "execution_count": 92,
   "metadata": {},
   "outputs": [
    {
     "name": "stdout",
     "output_type": "stream",
     "text": [
      "Distancia:  6053.098\n",
      "Acimut:  291.5615\n"
     ]
    }
   ],
   "source": [
    "print ('Distancia: ', '%.3f'%(dist))\n",
    "print ('Acimut: ', '%.4f'%(theta))"
   ]
  }
 ],
 "metadata": {
  "kernelspec": {
   "display_name": "Python 3",
   "language": "python",
   "name": "python3"
  },
  "language_info": {
   "codemirror_mode": {
    "name": "ipython",
    "version": 3
   },
   "file_extension": ".py",
   "mimetype": "text/x-python",
   "name": "python",
   "nbconvert_exporter": "python",
   "pygments_lexer": "ipython3",
   "version": "3.6.3"
  },
  "widgets": {
   "application/vnd.jupyter.widget-state+json": {
    "state": {},
    "version_major": 2,
    "version_minor": 0
   }
  }
 },
 "nbformat": 4,
 "nbformat_minor": 2
}
