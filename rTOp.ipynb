{
 "cells": [
  {
   "cell_type": "markdown",
   "metadata": {},
   "source": [
    "![Image of Yaktocat](http://www.uco.es/pie/images/logo-faldon-desplegable-etsiam.png)"
   ]
  },
  {
   "cell_type": "markdown",
   "metadata": {},
   "source": [
    "## Escuela Técnica Superior de Ingeniería Agronómica y de Montes\n",
    "##### Departamento de Ingeniería Gráfica y Geomática\n",
    "###### F. Javier Mesas Carrascosa\n",
    "\n",
    "## Conversion de coordenadas rectangulares a polares"
   ]
  },
  {
   "cell_type": "markdown",
   "metadata": {},
   "source": [
    "En este notebook se calcula a partir de las coordenadas de dos puntos el acimut y la distancia reducida entre el primero y el segundo teniendo en cuenta:\n",
    "\n",
    "a) Cálculo del acimut:\n",
    "\n",
    "* Primer cuadrante $\\theta _{est} ^{obs}=arctg\\frac{X_{obs}-X_{est}}{Y_{obs}-Y_{est}}=arctg\\frac{\\Delta X}{\\Delta Y}$\n",
    "\n",
    "* Segundo cuadrante $\\theta _{est} ^{obs}=200-arctg\\frac{X_{obs}-X_{est}}{Y_{obs}-Y_{est}}=arctg\\frac{\\Delta X}{\\Delta Y}$\n",
    "\n",
    "* Tercer cuadrante $\\theta _{est} ^{obs}=200+arctg\\frac{X_{obs}-X_{est}}{Y_{obs}-Y_{est}}=arctg\\frac{\\Delta X}{\\Delta Y}$\n",
    "\n",
    "* Cuarto cuadrante $\\theta _{est} ^{obs}=400-arctg\\frac{X_{obs}-X_{est}}{Y_{obs}-Y_{est}}=arctg\\frac{\\Delta X}{\\Delta Y}$\n",
    "\n",
    "b) Cálculo de la distancia reducida:\n",
    "\n",
    "$d_{1-2}=\\sqrt[]{(X2-X1)^2+(Y2-Y1)^2}=\\sqrt[]{\\Delta X^2+\\Delta Y^2}$"
   ]
  },
  {
   "cell_type": "markdown",
   "metadata": {
    "collapsed": true
   },
   "source": [
    "**Introduce las coordenadas de la estación:**"
   ]
  },
  {
   "cell_type": "code",
   "execution_count": 128,
   "metadata": {
    "collapsed": true
   },
   "outputs": [],
   "source": [
    "X1=1000\n",
    "Y1=1000"
   ]
  },
  {
   "cell_type": "markdown",
   "metadata": {
    "collapsed": true
   },
   "source": [
    "**Introduce las coordenadas del punto observado:**"
   ]
  },
  {
   "cell_type": "code",
   "execution_count": 129,
   "metadata": {
    "collapsed": true
   },
   "outputs": [],
   "source": [
    "X2=500\n",
    "Y2=200"
   ]
  },
  {
   "cell_type": "code",
   "execution_count": 130,
   "metadata": {},
   "outputs": [
    {
     "data": {
      "image/png": "[encoded data removed]",
      "text/plain": [
       "<matplotlib.figure.Figure at 0x1a176d22b0>"
      ]
     },
     "metadata": {},
     "output_type": "display_data"
    }
   ],
   "source": [
    "\n",
    "import matplotlib.pyplot as plt\n",
    "import numpy as np\n",
    "\n",
    "\n",
    "x = (X1,X2); # Generamos un vector de valores aleatorios\n",
    "y = (Y1,Y2); # Generamos otro vector de valores aleatorios\n",
    "\n",
    "plt.plot(x, y, '-o', color='black');\n",
    "plt.annotate('EST', xy=(X1, Y1));\n",
    "plt.annotate('PTO', xy=(X2, Y2));\n",
    "\n",
    "plt.xlim(X1-abs((X1-X2)),X1+abs((X1-X2)));\n",
    "plt.ylim(Y1-abs((Y1-Y2))-10,Y1+abs((Y1-Y2))+10);\n",
    "plt.axhline(y=Y1,color='black');\n",
    "plt.axvline(x=X1,color='black');\n",
    "plt.xlabel('X', fontsize=14);\n",
    "plt.ylabel('Y', fontsize=14);\n",
    "plt.axis('equal');"
   ]
  },
  {
   "cell_type": "code",
   "execution_count": 131,
   "metadata": {
    "collapsed": true
   },
   "outputs": [],
   "source": [
    "# Código en Python para el cálculo de la distancia reducida y el acimut entre dos puntos\n",
    "import math\n",
    "incX=X2-X1\n",
    "incY=Y2-Y1\n",
    "dist=math.sqrt(incX**2+incY**2)\n",
    "# Para el cálculo del acimut se debe en primer lugar determinar en que cuadrante se encuentra el punto 2\n",
    "# respecto del punto 1\n",
    "if incX>0 and incY>0:\n",
    "    theta=math.atan(incX/incY)*200/math.pi\n",
    "    cuadrante = 1;\n",
    "elif incX>0 and incY<0:\n",
    "    theta=200-math.atan(incX/incY)*200/math.pi\n",
    "    cuadrante = 2;\n",
    "elif incX<0 and incY<0:\n",
    "    theta=200+math.atan(incX/incY)*200/math.pi\n",
    "    cuadrante = 3;\n",
    "else:\n",
    "    theta=400-math.atan(incX/incY)*200/math.pi\n",
    "    cuadrante = 4;"
   ]
  },
  {
   "cell_type": "markdown",
   "metadata": {},
   "source": [
    "### Solución:"
   ]
  },
  {
   "cell_type": "code",
   "execution_count": 132,
   "metadata": {},
   "outputs": [
    {
     "name": "stdout",
     "output_type": "stream",
     "text": [
      "Cuadrante:  3\n",
      "Distancia:  943.398 m\n",
      "Acimut:  235.5615\n"
     ]
    }
   ],
   "source": [
    "print ('Cuadrante: ', '%d'%(cuadrante))\n",
    "print ('Distancia: ', '%.3f'%(dist),'m')\n",
    "print ('Acimut: ', '%.4f'%(theta))"
   ]
  }
 ],
 "metadata": {
  "kernelspec": {
   "display_name": "Python 3",
   "language": "python",
   "name": "python3"
  },
  "language_info": {
   "codemirror_mode": {
    "name": "ipython",
    "version": 3
   },
   "file_extension": ".py",
   "mimetype": "text/x-python",
   "name": "python",
   "nbconvert_exporter": "python",
   "pygments_lexer": "ipython3",
   "version": "3.6.3"
  },
  "widgets": {
   "application/vnd.jupyter.widget-state+json": {
    "state": {},
    "version_major": 2,
    "version_minor": 0
   }
  }
 },
 "nbformat": 4,
 "nbformat_minor": 2
}
